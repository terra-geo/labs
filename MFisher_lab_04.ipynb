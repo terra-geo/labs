{
  "cells": [
    {
      "cell_type": "markdown",
      "metadata": {
        "id": "iCjpLBbUR03M"
      },
      "source": [
        "# Maria Fisher - Lab 4\n",
        "\n",
        "[![Open In Colab](https://colab.research.google.com/assets/colab-badge.svg)](https://colab.research.google.com/github/giswqs/geog-510/blob/main/book/labs/lab_04.ipynb)"
      ]
    },
    {
      "cell_type": "markdown",
      "metadata": {
        "id": "hKLYXWYWR03O"
      },
      "source": [
        "## Exercise 1: Variable Assignment and Basic Operations\n",
        "\n",
        "Create variables to store the following geospatial data:\n",
        "\n",
        "- The latitude and longitude of New York City: 40.7128, -74.0060.\n",
        "- The population of New York City: 8,336,817.\n",
        "- The area of New York City in square kilometers: 783.8.\n",
        "\n",
        "Perform the following tasks:\n",
        "\n",
        "1. Calculate and print the population density of New York City (population per square kilometer).\n",
        "2. Print the coordinates in the format \"Latitude: [latitude], Longitude: [longitude]\"."
      ]
    },
    {
      "cell_type": "code",
      "execution_count": null,
      "metadata": {
        "id": "hz7W5dh3R03Q",
        "colab": {
          "base_uri": "https://localhost:8080/"
        },
        "outputId": "d9b0a98b-3716-4ed8-ea87-339e95dbf949"
      },
      "outputs": [
        {
          "output_type": "execute_result",
          "data": {
            "text/plain": [
              "(' The population density per square kilometer of NY is:10636.408522582293',\n",
              " 'Latitude: 40.7128, Longitude: -74.006')"
            ]
          },
          "metadata": {},
          "execution_count": 7
        }
      ],
      "source": [
        "# Store the following geospatial data\n",
        "latitude_nyc = 40.7128\n",
        "longitude_nyc = -74.0060\n",
        "population_nyc = 8336817\n",
        "area_nyc_km2 = 783.8\n",
        "\n",
        "#Perform the following tasks:\n",
        "\n",
        "# Calculate population density\n",
        "population_density = population_nyc / area_nyc_km2\n",
        "\n",
        "# Print the results\n",
        "population_density = f\"The population density per square kilometer of NY is:{population_density}\"\n",
        "coordinates = f\"Latitude: {latitude_nyc}, Longitude: {longitude_nyc}\"\n",
        "\n",
        "population_density, coordinates\n"
      ]
    },
    {
      "cell_type": "markdown",
      "metadata": {
        "id": "aqiEBR1JR03R"
      },
      "source": [
        "## Exercise 2: Working with Strings\n",
        "\n",
        "Create a string variable to store the name of a city, such as \"San Francisco\". Perform the following operations:\n",
        "\n",
        "1. Convert the string to lowercase and print the result.\n",
        "2. Convert the string to uppercase and print the result.\n",
        "3. Replace \"San\" with \"Los\" in the city name and print the new string."
      ]
    },
    {
      "cell_type": "code",
      "execution_count": null,
      "metadata": {
        "id": "psMD_R80R03R",
        "colab": {
          "base_uri": "https://localhost:8080/"
        },
        "outputId": "d38f9b42-4562-42c5-8e36-322f542bacf2"
      },
      "outputs": [
        {
          "output_type": "execute_result",
          "data": {
            "text/plain": [
              "('san francisco', 'SAN FRANCISCO', 'Los Francisco')"
            ]
          },
          "metadata": {},
          "execution_count": 8
        }
      ],
      "source": [
        "# String variable to store the name of a city,\n",
        "city_name = \"San Francisco\"\n",
        "\n",
        "# 1.Convert the string to lowercase and print the result.\n",
        "city_lowercase = city_name.lower()\n",
        "\n",
        "# 2. Convert the string to uppercase and print the result.\n",
        "city_uppercase = city_name.upper()\n",
        "\n",
        "# 3. Replace \"San\" with \"Los\" in the city name\n",
        "city_modified = city_name.replace(\"San\", \"Los\")\n",
        "\n",
        "# Print the new string\n",
        "city_lowercase, city_uppercase, city_modified\n"
      ]
    },
    {
      "cell_type": "markdown",
      "metadata": {
        "id": "ng0_UYWnR03S"
      },
      "source": [
        "## Exercise 3: Using Lists\n",
        "\n",
        "Create a list of tuples, where each tuple contains the name of a city and its corresponding latitude and longitude:\n",
        "\n",
        "- New York City: (40.7128, -74.0060)\n",
        "- Los Angeles: (34.0522, -118.2437)\n",
        "- Chicago: (41.8781, -87.6298)\n",
        "\n",
        "Perform the following tasks:\n",
        "\n",
        "1. Add a new city (e.g., Miami: (25.7617, -80.1918)) to the list.\n",
        "2. Print the entire list of cities.\n",
        "3. Slice the list to print only the first two cities."
      ]
    },
    {
      "cell_type": "code",
      "execution_count": null,
      "metadata": {
        "id": "E5ICCX93R03T",
        "colab": {
          "base_uri": "https://localhost:8080/"
        },
        "outputId": "e2ca4377-1ae7-4794-e311-31886c7782be"
      },
      "outputs": [
        {
          "output_type": "execute_result",
          "data": {
            "text/plain": [
              "([('New York City', 40.7128, -74.006),\n",
              "  ('Los Angeles', 34.0522, -118.2437),\n",
              "  ('Chicago', 41.8781, -87.6298),\n",
              "  ('São Paulo', -23.5505, -46.6333)],\n",
              " [('New York City', 40.7128, -74.006), ('Los Angeles', 34.0522, -118.2437)])"
            ]
          },
          "metadata": {},
          "execution_count": 9
        }
      ],
      "source": [
        "# Creating the list of tuples with city names and coordinates\n",
        "cities = [\n",
        "    (\"New York City\", 40.7128, -74.0060),\n",
        "    (\"Los Angeles\", 34.0522, -118.2437),\n",
        "    (\"Chicago\", 41.8781, -87.6298)\n",
        "]\n",
        "\n",
        "# 1. Add a new city (São Paulo, Brazil)\n",
        "cities.append((\"São Paulo\", -23.5505, -46.6333))\n",
        "\n",
        "# 2. Print the entire list of cities\n",
        "cities_list = cities\n",
        "\n",
        "# 3. Slice the list to print only the first two cities\n",
        "first_two_cities = cities[:2]\n",
        "\n",
        "cities_list, first_two_cities\n"
      ]
    },
    {
      "cell_type": "markdown",
      "metadata": {
        "id": "xdPWiPd6R03U"
      },
      "source": [
        "## Exercise 4: Using Tuples\n",
        "\n",
        "Create a tuple to store the coordinates (latitude, longitude) of the Eiffel Tower: (48.8584, 2.2945). Perform the following tasks:\n",
        "\n",
        "1. Access and print the latitude and longitude values from the tuple.\n",
        "2. Try to change the latitude value to 48.8585. What happens? Explain why."
      ]
    },
    {
      "cell_type": "code",
      "execution_count": null,
      "metadata": {
        "id": "StyfFTV_R03U",
        "colab": {
          "base_uri": "https://localhost:8080/"
        },
        "outputId": "4f4713b2-d8f3-4c64-afa2-a2e190e86d6b"
      },
      "outputs": [
        {
          "output_type": "execute_result",
          "data": {
            "text/plain": [
              "(48.8584, 2.2945, \"'tuple' object does not support item assignment\")"
            ]
          },
          "metadata": {},
          "execution_count": 10
        }
      ],
      "source": [
        "# Creating the tuple to store the coordinates of the Eiffel Tower\n",
        "eiffel_tower_coordinates = (48.8584, 2.2945)\n",
        "\n",
        "## Perform the following tasks:\n",
        "\n",
        "# 1. Access and print the latitude and longitude values from the tuple\n",
        "latitude, longitude = eiffel_tower_coordinates\n",
        "\n",
        "# 2. Try to change the latitude value to 48.8585.\n",
        "try:\n",
        "    eiffel_tower_coordinates[0] = 48.8585\n",
        "except TypeError as e:\n",
        "    error_message = str(e)\n",
        "\n",
        "latitude, longitude, error_message if 'error_message' in locals() else None\n"
      ]
    },
    {
      "cell_type": "markdown",
      "source": [
        "### What happens?\n",
        " error message : \"'tuple' object does not support item assignment\"\n",
        "\n",
        "### Explain why.\n",
        "tuples in Python are immutable, meaning their values cannot be changed once they are created."
      ],
      "metadata": {
        "id": "FipdrVVypluH"
      }
    },
    {
      "cell_type": "markdown",
      "metadata": {
        "id": "1s3Kkps0R03W"
      },
      "source": [
        "## Exercise 5: Working with Sets\n",
        "\n",
        "Create a set of countries you have visited, such as {\"USA\", \"France\", \"Germany\"}. Perform the following tasks:\n",
        "\n",
        "1. Add a new country to the set.\n",
        "2. Try to add the same country again. What happens?\n",
        "3. Print the updated set."
      ]
    },
    {
      "cell_type": "code",
      "execution_count": null,
      "metadata": {
        "id": "9PCwWfg2R03W",
        "colab": {
          "base_uri": "https://localhost:8080/"
        },
        "outputId": "ed08592b-f08b-4a61-cad1-8b68ec404c77"
      },
      "outputs": [
        {
          "output_type": "execute_result",
          "data": {
            "text/plain": [
              "{'France', 'Japan', 'Morocco', 'Peru'}"
            ]
          },
          "metadata": {},
          "execution_count": 14
        }
      ],
      "source": [
        "# Create a set of countries you have visited\n",
        "visited_countries = {\"Morocco\", \"France\", \"Peru\"}\n",
        "\n",
        "# Perform the following tasks:\n",
        "\n",
        "# 1. Add a new country to the set\n",
        "visited_countries.add(\"Japan\")\n",
        "\n",
        "# 3. Print the set\n",
        "visited_countries\n"
      ]
    },
    {
      "cell_type": "code",
      "source": [
        "# 2. Try to add the same country again\n",
        "visited_countries.add(\"Japan\")"
      ],
      "metadata": {
        "id": "Km_IsLan0RIB"
      },
      "execution_count": null,
      "outputs": []
    },
    {
      "cell_type": "code",
      "source": [
        "# 3. Printing the updated set\n",
        "visited_countries"
      ],
      "metadata": {
        "colab": {
          "base_uri": "https://localhost:8080/"
        },
        "id": "K3m4g7Zp0bw2",
        "outputId": "57b2512c-c973-433f-bad4-c189cf08aca8"
      },
      "execution_count": null,
      "outputs": [
        {
          "output_type": "execute_result",
          "data": {
            "text/plain": [
              "{'France', 'Japan', 'Morocco', 'Peru'}"
            ]
          },
          "metadata": {},
          "execution_count": 16
        }
      ]
    },
    {
      "cell_type": "markdown",
      "source": [
        "### What happens?\n",
        "Nothing, because in Python, sets automatically handle duplicates by ignoring repeated entries."
      ],
      "metadata": {
        "id": "mU_ZRSvE1MTb"
      }
    },
    {
      "cell_type": "markdown",
      "metadata": {
        "id": "rsKNkU6_R03X"
      },
      "source": [
        "## Exercise 6: Working with Dictionaries\n",
        "\n",
        "Create a dictionary to store information about a specific geospatial feature, such as a river:\n",
        "\n",
        "- Name: \"Amazon River\"\n",
        "- Length: 6400 km\n",
        "- Countries: [\"Brazil\", \"Peru\", \"Colombia\"]\n",
        "\n",
        "Perform the following tasks:\n",
        "\n",
        "1. Add a new key-value pair to the dictionary to store the river's average discharge (e.g., 209,000 m³/s).\n",
        "2. Update the length of the river to 6992 km.\n",
        "3. Print the dictionary."
      ]
    },
    {
      "cell_type": "code",
      "execution_count": null,
      "metadata": {
        "id": "y9Ob627AR03X",
        "colab": {
          "base_uri": "https://localhost:8080/"
        },
        "outputId": "1fa2fc9d-4d53-4811-8aa4-7b18df0f81ae"
      },
      "outputs": [
        {
          "output_type": "execute_result",
          "data": {
            "text/plain": [
              "{'Name': 'Amazon River',\n",
              " 'Length_km': 6992,\n",
              " 'Countries': ['Brazil', 'Peru', 'Colombia'],\n",
              " 'Average_Discharge_m3_s': 209000}"
            ]
          },
          "metadata": {},
          "execution_count": 18
        }
      ],
      "source": [
        "# Create a dictionary to store information about the Amazon River\n",
        "amazon_river = {\n",
        "    \"Name\": \"Amazon River\",\n",
        "    \"Length_km\": 6400,\n",
        "    \"Countries\": [\"Brazil\", \"Peru\", \"Colombia\"]\n",
        "}\n",
        "\n",
        "# Perform the following tasks:\n",
        "\n",
        "# 1. Add a new key-value pair to the dictionary to store the river's average discharge (e.g., 209,000 m³/s).\n",
        "amazon_river[\"Average_Discharge_m3_s\"] = 209000\n",
        "\n",
        "# 2. Update the length of the river to 6992 km.\n",
        "amazon_river[\"Length_km\"] = 6992\n",
        "\n",
        "# 3. Print the updated dictionary\n",
        "amazon_river\n"
      ]
    },
    {
      "cell_type": "markdown",
      "metadata": {
        "id": "Zy0BrV5fR03Y"
      },
      "source": [
        "## Exercise 7: Nested Data Structures\n",
        "\n",
        "Create a dictionary to represent a city that contains the city's name, population, and coordinates (latitude, longitude):\n",
        "\n",
        "- Name: \"Tokyo\"\n",
        "- Population: 13,515,271\n",
        "- Coordinates: (35.6895, 139.6917)\n",
        "\n",
        "Perform the following tasks:\n",
        "\n",
        "1. Access and print the population of the city.\n",
        "2. Access and print the city's latitude.\n",
        "3. Update the population to 14,000,000 and print the updated dictionary."
      ]
    },
    {
      "cell_type": "code",
      "execution_count": null,
      "metadata": {
        "id": "MdUcBSNVR03Y",
        "colab": {
          "base_uri": "https://localhost:8080/"
        },
        "outputId": "39a0cca7-987f-4ccc-9099-cf864f0a6429"
      },
      "outputs": [
        {
          "output_type": "stream",
          "name": "stdout",
          "text": [
            "Population: 13515271\n",
            "Latitude: 35.6895\n"
          ]
        },
        {
          "output_type": "execute_result",
          "data": {
            "text/plain": [
              "{'Name': 'Tokyo', 'Population': 14000000, 'Coordinates': (35.6895, 139.6917)}"
            ]
          },
          "metadata": {},
          "execution_count": 22
        }
      ],
      "source": [
        "# Create a dictionary to represent a city that contains the city's name, population, and coordinates (latitude, longitude):\n",
        "tokyo = {\n",
        "    \"Name\": \"Tokyo\",\n",
        "    \"Population\": 13515271,\n",
        "    \"Coordinates\": (35.6895, 139.6917)\n",
        "}\n",
        "\n",
        "# Perform the following tasks:\n",
        "\n",
        "# 1. Access and printing the population of the city\n",
        "print(\"Population:\", tokyo[\"Population\"])\n",
        "\n",
        "# 2. Access and print the city's latitude\n",
        "print(\"Latitude:\", tokyo[\"Coordinates\"][0])\n",
        "\n",
        "# 3. Update the population to 14,000,000\n",
        "tokyo[\"Population\"] = 14000000\n",
        "\n",
        "# Print the updated dictionary\n",
        "tokyo\n"
      ]
    },
    {
      "cell_type": "markdown",
      "metadata": {
        "id": "BYW4l6n8R03Y"
      },
      "source": [
        "## Exercise 8: List Operations\n",
        "\n",
        "Given the list of cities from Exercise 3, perform the following operations:\n",
        "\n",
        "1. Sort the list of cities alphabetically by name.\n",
        "2. Create a new list that contains only the city names.\n",
        "3. Remove the last city from the original list and print the updated list."
      ]
    },
    {
      "cell_type": "code",
      "execution_count": null,
      "metadata": {
        "id": "8uZx620lR03Y",
        "colab": {
          "base_uri": "https://localhost:8080/"
        },
        "outputId": "75327dbb-55ad-4047-cd86-45be6f619b9c"
      },
      "outputs": [
        {
          "output_type": "stream",
          "name": "stdout",
          "text": [
            "Sorted Cities: [('Chicago', 41.8781, -87.6298), ('Los Angeles', 34.0522, -118.2437), ('New York City', 40.7128, -74.006)]\n",
            "City Names: ['New York City', 'Los Angeles', 'Chicago']\n",
            "Updated List: [('New York City', 40.7128, -74.006), ('Los Angeles', 34.0522, -118.2437)]\n"
          ]
        }
      ],
      "source": [
        "#  List of cities from Exercise 3\n",
        "cities = [\n",
        "    (\"New York City\", 40.7128, -74.0060),\n",
        "    (\"Los Angeles\", 34.0522, -118.2437),\n",
        "    (\"Chicago\", 41.8781, -87.6298)\n",
        "]\n",
        "\n",
        "# Perform the following operations:\n",
        "\n",
        "# 1. Sort the list of cities alphabetically by name\n",
        "cities_sorted = sorted(cities, key=lambda city: city[0])\n",
        "\n",
        "# 2. Create a new list that contains only the city names\n",
        "city_names = [city[0] for city in cities]\n",
        "\n",
        "# 3. Remove the last city from the original list\n",
        "cities.pop()\n",
        "\n",
        "# Print the results\n",
        "print(\"Sorted Cities:\", cities_sorted)\n",
        "print(\"City Names:\", city_names)\n",
        "print(\"Updated List:\", cities)\n"
      ]
    },
    {
      "cell_type": "markdown",
      "metadata": {
        "id": "S7FaJo1pR03Y"
      },
      "source": [
        "## Exercise 9: Dictionary Operations\n",
        "\n",
        "Using the dictionary from Exercise 6, perform the following tasks:\n",
        "\n",
        "1. Check if the key \"Length\" exists in the dictionary.\n",
        "2. Print all the keys in the dictionary.\n",
        "3. Print all the values in the dictionary."
      ]
    },
    {
      "cell_type": "code",
      "execution_count": null,
      "metadata": {
        "id": "dd1B-1NXR03a",
        "colab": {
          "base_uri": "https://localhost:8080/"
        },
        "outputId": "ba2af1ce-e73f-4d8f-af5e-105db32ccc3e"
      },
      "outputs": [
        {
          "output_type": "stream",
          "name": "stdout",
          "text": [
            "Does 'Length' exist in the dictionary? False\n",
            "Keys: dict_keys(['Name', 'Length_km', 'Countries'])\n",
            "Values: dict_values(['Amazon River', 6400, ['Brazil', 'Peru', 'Colombia']])\n"
          ]
        }
      ],
      "source": [
        "# Using the dictionary from Exercise 6\n",
        "amazon_river = {\n",
        "    \"Name\": \"Amazon River\",\n",
        "    \"Length_km\": 6400,\n",
        "    \"Countries\": [\"Brazil\", \"Peru\", \"Colombia\"]\n",
        "}\n",
        "\n",
        "# Perform the following tasks:\n",
        "\n",
        "# 1. Check if the key \"Length\" exists in the dictionary.\n",
        "key_exists = \"Length\" in amazon_river\n",
        "print(\"Does 'Length' exist in the dictionary?\", key_exists)\n",
        "\n",
        "# 2. Print all the keys in the dictionary.\n",
        "print(\"Keys:\", amazon_river.keys())\n",
        "\n",
        "# 3. Print all the values in the dictionary.\n",
        "print(\"Values:\", amazon_river.values())\n"
      ]
    },
    {
      "cell_type": "markdown",
      "metadata": {
        "id": "xKelcrBAR03b"
      },
      "source": [
        "## Exercise 10: Practical Application\n",
        "\n",
        "Imagine you have a list of tuples, each representing a location with its name, latitude, and longitude:"
      ]
    },
    {
      "cell_type": "code",
      "execution_count": null,
      "metadata": {
        "id": "Lh5ZXplxR03b"
      },
      "outputs": [],
      "source": [
        "locations = [\n",
        "    (\"Mount Everest\", 27.9881, 86.9250),\n",
        "    (\"K2\", 35.8808, 76.5155),\n",
        "    (\"Kangchenjunga\", 27.7025, 88.1475),\n",
        "]"
      ]
    },
    {
      "cell_type": "markdown",
      "metadata": {
        "id": "EN2Y_TWQR03b"
      },
      "source": [
        "Perform the following tasks:\n",
        "\n",
        "1. Create a new list that contains only the names of the locations.\n",
        "2. Create a dictionary where the keys are location names and the values are tuples of their coordinates.\n",
        "3. Print the latitude of \"K2\" using the dictionary."
      ]
    },
    {
      "cell_type": "code",
      "execution_count": null,
      "metadata": {
        "id": "HwIuy5RdR03c",
        "colab": {
          "base_uri": "https://localhost:8080/"
        },
        "outputId": "99a59cb7-c25f-45a1-eecf-26046f934b19"
      },
      "outputs": [
        {
          "output_type": "stream",
          "name": "stdout",
          "text": [
            "Location Names: ['Mount Everest', 'K2', 'Kangchenjunga']\n",
            "Location Dictionary: {'Mount Everest': (27.9881, 86.925), 'K2': (35.8808, 76.5155), 'Kangchenjunga': (27.7025, 88.1475)}\n",
            "Latitude of K2: 35.8808\n"
          ]
        }
      ],
      "source": [
        "# List of tuples, each representing a location with its name, latitude, and longitude:\n",
        "locations = [\n",
        "    (\"Mount Everest\", 27.9881, 86.9250),\n",
        "    (\"K2\", 35.8808, 76.5155),\n",
        "    (\"Kangchenjunga\", 27.7025, 88.1475)\n",
        "]\n",
        "\n",
        "# Perform the following tasks:\n",
        "\n",
        "# 1. Create a new list that contains only the names of the locations.\n",
        "location_names = [location[0] for location in locations]\n",
        "\n",
        "# 2. Create a dictionary where the keys are location names and the values are tuples of their coordinates.\n",
        "location_dict = {location[0]: (location[1], location[2]) for location in locations}\n",
        "\n",
        "# 3. Print the latitude of \"K2\" using the dictionary.\n",
        "k2_latitude = location_dict[\"K2\"][0]\n",
        "\n",
        "# Displaying the results\n",
        "print(\"Location Names:\", location_names)\n",
        "print(\"Location Dictionary:\", location_dict)\n",
        "print(\"Latitude of K2:\", k2_latitude)\n"
      ]
    },
    {
      "cell_type": "markdown",
      "metadata": {
        "id": "2qj26PAxR03c"
      },
      "source": [
        "## Exercise 11: Manipulating Geographic Location Strings\n",
        "\n",
        "- Create a string that represents the name of a geographic feature (e.g., `\"Amazon River\"`).\n",
        "- Convert the string to lowercase and then to uppercase.\n",
        "- Concatenate the string with the name of the country (e.g., `\"Brazil\"`) to create a full location name.\n",
        "- Repeat the string three times, separating each repetition with a dash (`-`)."
      ]
    },
    {
      "cell_type": "code",
      "execution_count": null,
      "metadata": {
        "id": "PXZgEhwYR03c",
        "colab": {
          "base_uri": "https://localhost:8080/"
        },
        "outputId": "eb01fc4f-09aa-4b0d-f359-6bd61a97c86a"
      },
      "outputs": [
        {
          "output_type": "stream",
          "name": "stdout",
          "text": [
            "Lowercase: amazon river\n",
            "Uppercase: AMAZON RIVER\n",
            "Full Location: Amazon River, Brazil\n",
            "Repeated Feature: Amazon River - Amazon River - Amazon River\n"
          ]
        }
      ],
      "source": [
        "# 1. Create a string representing the name of a geographic feature\n",
        "geo_feature = \"Amazon River\"\n",
        "\n",
        "# 2. Convert the string to lowercase\n",
        "geo_feature_lower = geo_feature.lower()\n",
        "\n",
        "# 3. Convert the string to uppercase\n",
        "geo_feature_upper = geo_feature.upper()\n",
        "\n",
        "# 4. Concatenate the string with the name of the country (e.g., \"Brazil\") to create a full location name.\n",
        "full_location = geo_feature + \", Brazil\"\n",
        "\n",
        "# 5. Repeat the string three times, separating each repetition with a dash (-).\n",
        "repeated_feature = \" - \".join([geo_feature] * 3)\n",
        "\n",
        "# Printing results\n",
        "print(\"Lowercase:\", geo_feature_lower)\n",
        "print(\"Uppercase:\", geo_feature_upper)\n",
        "print(\"Full Location:\", full_location)\n",
        "print(\"Repeated Feature:\", repeated_feature)\n"
      ]
    },
    {
      "cell_type": "markdown",
      "metadata": {
        "id": "6ZbTuUP6R03c"
      },
      "source": [
        "## Exercise 12: Extracting and Formatting Coordinates\n",
        "\n",
        "- Given a string with the format `\"latitude, longitude\"` (e.g., `\"40.7128N, 74.0060W\"`), extract the numeric values of latitude and longitude.\n",
        "- Convert these values to floats and remove the directional indicators (`N`, `S`, `E`, `W`).\n",
        "- Format the coordinates into a `POINT` WKT string (e.g., `\"POINT(-74.0060 40.7128)\"`)."
      ]
    },
    {
      "cell_type": "code",
      "execution_count": null,
      "metadata": {
        "id": "YIRLAYSWR03d",
        "colab": {
          "base_uri": "https://localhost:8080/"
        },
        "outputId": "584af9b4-117d-412c-84b4-a2b7db249ea7"
      },
      "outputs": [
        {
          "output_type": "stream",
          "name": "stdout",
          "text": [
            "40.7128 74.006\n",
            "WKT POINT: POINT(74.006 40.7128)\n"
          ]
        }
      ],
      "source": [
        "# 1. Given a string with the format \"latitude, longitude\" (e.g., \"40.7128N, 74.0060W\")\n",
        "coordinates = \"40.7128N, 74.0060W\"\n",
        "\n",
        "# Extracting latitude and longitude as strings\n",
        "latitude_str, longitude_str = coordinates.split(\", \")\n",
        "\n",
        "# 2. Remove the directional indicators (N, S, E, W).\n",
        "latitude = float(latitude_str[:-1])  # Remove the directional character and convert to float\n",
        "longitude = float(longitude_str[:-1])  # Remove the directional character and convert to float\n",
        "print(latitude, longitude)\n",
        "\n",
        "# 3. Format the coordinates into a POINT WKT string (e.g., \"POINT(-74.0060 40.7128)\")\n",
        "wkt_point = f\"POINT({longitude} {latitude})\"\n",
        "print(\"WKT POINT:\", wkt_point)\n",
        "\n"
      ]
    },
    {
      "cell_type": "markdown",
      "metadata": {
        "id": "QOtFEEfAR03d"
      },
      "source": [
        "## Exercise 13: Building Dynamic SQL Queries\n",
        "\n",
        "- Given a table name and a condition, dynamically build an SQL query string.\n",
        "- Example: If `table_name = \"cities\"` and `condition = \"population > 1000000\"`, the query should be `\"SELECT * FROM cities WHERE population > 1000000;\"`.\n",
        "- Add additional conditions dynamically, like `AND` clauses."
      ]
    },
    {
      "cell_type": "code",
      "execution_count": null,
      "metadata": {
        "id": "cIks3Dy9R03d",
        "colab": {
          "base_uri": "https://localhost:8080/"
        },
        "outputId": "fb37add4-69d8-4cf4-e93e-ecc10b3bf9df"
      },
      "outputs": [
        {
          "output_type": "stream",
          "name": "stdout",
          "text": [
            "SELECT * FROM cities WHERE population > 1000000 AND country = 'USA' AND name LIKE 'blabla';\n"
          ]
        }
      ],
      "source": [
        "# 1. Given table name and condition\n",
        "table_name = \"cities\"\n",
        "condition = \"population > 1000000\"\n",
        "additional_conditions = [\"country = 'USA'\", \"name LIKE 'blabla'\"]\n",
        "\n",
        "# 2. Dynamically build an SQL query string.\n",
        "query = f\"SELECT * FROM {table_name} WHERE {condition}\"\n",
        "\n",
        "# 3. Add additional conditions dynamically, like AND clauses.\n",
        "for cond in additional_conditions:\n",
        "    query += f\" AND {cond}\"\n",
        "\n",
        "# 4. End of the query\n",
        "query += \";\"\n",
        "\n",
        "# Print the result\n",
        "print(query)\n",
        "\n",
        "\n"
      ]
    },
    {
      "cell_type": "markdown",
      "metadata": {
        "id": "I4n3a599R03d"
      },
      "source": [
        "## Exercise 14: String Normalization and Cleaning\n",
        "\n",
        "- Given a list of city names with inconsistent formatting (e.g., `[\" new york \", \"Los ANGELES\", \"   CHICAGO\"]`), normalize the names by:\n",
        "  - Stripping any leading or trailing whitespace.\n",
        "  - Converting them to title case (e.g., `\"New York\"`, `\"Los Angeles\"`, `\"Chicago\"`).\n",
        "- Ensure that the output is a clean list of city names."
      ]
    },
    {
      "cell_type": "code",
      "execution_count": null,
      "metadata": {
        "id": "tyeBe13rR03e",
        "colab": {
          "base_uri": "https://localhost:8080/"
        },
        "outputId": "32307302-7423-4cdf-fa93-a0707dd7053c"
      },
      "outputs": [
        {
          "output_type": "stream",
          "name": "stdout",
          "text": [
            "['New York', 'Los Angeles', 'Chicago']\n"
          ]
        }
      ],
      "source": [
        "# 1. Given list of city names with inconsistent formatting\n",
        "cities = [\" new york \", \"Los ANGELES\", \" CHICAGO\"]\n",
        "\n",
        "# 2. Strip any leading or trailing whitespace from each city name\n",
        "stripped_cities = [city.strip() for city in cities]\n",
        "\n",
        "# 3. Convert the city names to title case\n",
        "normalized_cities = [city.title() for city in stripped_cities]\n",
        "\n",
        "# Print the cleaned list\n",
        "print(normalized_cities)\n",
        "\n"
      ]
    },
    {
      "cell_type": "markdown",
      "metadata": {
        "id": "Dw_wmMn0R03e"
      },
      "source": [
        "## Exercise 15: Parsing and Extracting Address Information\n",
        "\n",
        "- Given a string in the format `\"Street, City, Country\"` (e.g., `\"123 Main St, Springfield, USA\"`), write a function that parses the string into a dictionary with keys `street`, `city`, and `country`.\n",
        "- The function should return a dictionary like `{\"street\": \"123 Main St\", \"city\": \"Springfield\", \"country\": \"USA\"}`."
      ]
    },
    {
      "cell_type": "code",
      "execution_count": 8,
      "metadata": {
        "id": "7XwTuMOcR03f",
        "colab": {
          "base_uri": "https://localhost:8080/"
        },
        "outputId": "b300a521-aa37-46a9-e1d1-75a14acbf5f6"
      },
      "outputs": [
        {
          "output_type": "stream",
          "name": "stdout",
          "text": [
            "{'street': '123 Main St', 'city': 'Springfield', 'country': 'USA'}\n"
          ]
        }
      ],
      "source": [
        "# Write a function that parses the string into a dictionary with keys street, city, and country.\n",
        "\n",
        "def parse_address(address: str) -> dict:\n",
        "    keys = [keys.strip() for keys in address.split(\",\")] # split the string by ',' and remove spaces\n",
        "\n",
        "    # assign each part of the string to a respective key\n",
        "    return {\n",
        "        \"street\": keys[0],\n",
        "        \"city\": keys[1],\n",
        "        \"country\": keys[2]}\n",
        "\n",
        "# Given a string in the format:\n",
        "address = \"123 Main St, Springfield, USA\"\n",
        "parsed_address = parse_address(address)\n",
        "print(parsed_address)\n"
      ]
    },
    {
      "cell_type": "markdown",
      "metadata": {
        "id": "Qz1Lj_0nR03f"
      },
      "source": [
        "## Exercise 16: Using For Loops to Process Coordinate Lists\n",
        "\n",
        "- Create a list of tuples representing coordinates (latitude, longitude).\n",
        "- Write a `for` loop that prints each coordinate and indicates whether it is in the Northern or Southern Hemisphere based on the latitude."
      ]
    },
    {
      "cell_type": "code",
      "execution_count": 10,
      "metadata": {
        "id": "K2I7pilQR03f",
        "colab": {
          "base_uri": "https://localhost:8080/"
        },
        "outputId": "93360abe-1d98-448f-bdb1-7fcb32127874"
      },
      "outputs": [
        {
          "output_type": "stream",
          "name": "stdout",
          "text": [
            "Coordinate: (51.5074, -0.1278) is in the Northern Hemisphere.\n",
            "Coordinate: (41.8781, -87.6298) is in the Northern Hemisphere.\n",
            "Coordinate: (-23.5505, -46.6333) is in the Southern Hemisphere.\n",
            "Coordinate: (-36.8485, 174.7633) is in the Southern Hemisphere.\n"
          ]
        }
      ],
      "source": [
        "# Create a list of tuples representing coordinates (latitude, longitude).\n",
        "coordinates = [\n",
        "    (51.5074, -0.1278),  # London, UK (Northern Hemisphere)\n",
        "    (41.8781, -87.6298),  # Chicago, USA (Northern Hemisphere)\n",
        "    (-23.5505, -46.6333),  # São Paulo, Brazil (Southern Hemisphere)\n",
        "    (-36.8485, 174.7633)  # Auckland, New Zealand (Southern Hemisphere)\n",
        "]\n",
        "\n",
        "# Write a for loop that prints each coordinate and indicates whether it is in the Northern or Southern Hemisphere based on the latitude.\n",
        "for lat, lon in coordinates:\n",
        "    hemisphere = \"Northern Hemisphere\" if lat >= 0 else \"Southern Hemisphere\"\n",
        "    print(f\"Coordinate: ({lat}, {lon}) is in the {hemisphere}.\")\n",
        "\n"
      ]
    },
    {
      "cell_type": "markdown",
      "metadata": {
        "id": "SKT4-wFkR03f"
      },
      "source": [
        "## Exercise 17: While Loops for Iterative Processing\n",
        "\n",
        "- Create a list of coordinates (latitude, longitude).\n",
        "- Write a `while` loop that continues to print each coordinate until it encounters a coordinate with a negative latitude.\n",
        "- Stop the loop once this condition is met."
      ]
    },
    {
      "cell_type": "code",
      "execution_count": 13,
      "metadata": {
        "id": "O1uhqZ3QR03g",
        "colab": {
          "base_uri": "https://localhost:8080/"
        },
        "outputId": "9ce6dbe4-de38-4135-b409-91cc7dbd1efb"
      },
      "outputs": [
        {
          "output_type": "stream",
          "name": "stdout",
          "text": [
            "Coordinate: (51.5074, -0.1278)\n",
            "Coordinate: (41.8781, -87.6298)\n",
            "Encountered a coordinate with a negative latitude. Stopping loop.\n"
          ]
        }
      ],
      "source": [
        "# Create a list of coordinates (latitude, longitude).\n",
        "coordinates = [\n",
        "    (51.5074, -0.1278),  # London, UK (Northern Hemisphere)\n",
        "    (41.8781, -87.6298),  # Chicago, USA (Northern Hemisphere)\n",
        "    (-23.5505, -46.6333),  # São Paulo, Brazil (Southern Hemisphere)\n",
        "    (-36.8485, 174.7633)  # Auckland, New Zealand (Southern Hemisphere)\n",
        "]\n",
        "\n",
        "# Initialize index\n",
        "index = 0\n",
        "\n",
        "# Write a while loop that continues to print each coordinate until it encounters a coordinate with a negative latitude.\n",
        "while index < len(coordinates):\n",
        "    lat, lon = coordinates[index]\n",
        "\n",
        "    # Stop the loop once this condition is met.\n",
        "    if lat < 0:\n",
        "        print(\"Encountered a coordinate with a negative latitude. Stopping loop.\")\n",
        "        break\n",
        "\n",
        "    print(f\"Coordinate: ({lat}, {lon})\")\n",
        "    index += 1\n"
      ]
    },
    {
      "cell_type": "markdown",
      "metadata": {
        "id": "C0KsxuTFR03g"
      },
      "source": [
        "## Exercise 18: Conditional Logic in Loops\n",
        "\n",
        "- Create a list of coordinates and use a `for` loop to iterate over them.\n",
        "- Use an `if-elif-else` statement inside the loop to classify each coordinate based on its longitude:\n",
        "  - Print `\"Eastern Hemisphere\"` if the longitude is greater than 0.\n",
        "  - Print `\"Western Hemisphere\"` if the longitude is less than 0."
      ]
    },
    {
      "cell_type": "code",
      "execution_count": 20,
      "metadata": {
        "id": "j0mIg39IR03g",
        "colab": {
          "base_uri": "https://localhost:8080/"
        },
        "outputId": "c40e44e9-fe12-4c7f-b4bd-517ce4663f9f"
      },
      "outputs": [
        {
          "output_type": "stream",
          "name": "stdout",
          "text": [
            "Coordinate: (40.7128, -74.006) is in the Western Hemisphere.\n",
            "Coordinate: (51.5074, -0.1278) is in the Western Hemisphere.\n",
            "Coordinate: (-33.8688, 151.2093) is in the Eastern Hemisphere.\n",
            "Coordinate: (35.6895, 139.6917) is in the Eastern Hemisphere.\n",
            "Coordinate: (0.0, 0.0) is near the Equator.\n"
          ]
        }
      ],
      "source": [
        "# Create a list of coordinates and use a for loop to iterate over them.\n",
        "coordinates = [\n",
        "    (40.7128, -74.0060),  # New York, USA (Western Hemisphere)\n",
        "    (51.5074, -0.1278),   # London, UK (Western Hemisphere)\n",
        "    (-33.8688, 151.2093), # Sydney, Australia (Eastern Hemisphere)\n",
        "    (35.6895, 139.6917),  # Tokyo, Japan (Eastern Hemisphere)\n",
        "    (0.0, 0.0),           # near the Equator\n",
        "]\n",
        "\n",
        "# Use an if-elif-else statement inside the loop to classify each coordinate based on its longitude:\n",
        "for lat, lon in coordinates:\n",
        "    if lon > 0:\n",
        "        print(f\"Coordinate: ({lat}, {lon}) is in the Eastern Hemisphere.\")\n",
        "    elif lon < 0:\n",
        "        print(f\"Coordinate: ({lat}, {lon}) is in the Western Hemisphere.\")\n",
        "    else:\n",
        "        print(f\"Coordinate: ({lat}, {lon}) is near the Equator.\")\n"
      ]
    },
    {
      "cell_type": "markdown",
      "metadata": {
        "id": "c5mCQbHFR03h"
      },
      "source": [
        "## Exercise 19: Filtering Data with Combined Loops and Conditionals\n",
        "\n",
        "- Given a list of coordinates, filter out and store only those located in the Southern Hemisphere (latitude < 0).\n",
        "- Count the number of coordinates that meet this condition and print the result."
      ]
    },
    {
      "cell_type": "code",
      "execution_count": 22,
      "metadata": {
        "id": "hwS2YCiZR03h",
        "colab": {
          "base_uri": "https://localhost:8080/"
        },
        "outputId": "4051cb3e-c512-4702-a424-0015e43e998d"
      },
      "outputs": [
        {
          "output_type": "stream",
          "name": "stdout",
          "text": [
            "Southern Hemisphere coordinates: [(-23.5505, -46.6333), (-33.8688, 151.2093), (-36.8485, 174.7633)]\n",
            "Number of coordinates in the Southern Hemisphere: 3\n"
          ]
        }
      ],
      "source": [
        "# Given a list of coordinates.\n",
        "coordinates = [\n",
        "    (40.7128, -74.0060),  # New York, USA (Northern Hemisphere)\n",
        "    (51.5074, -0.1278),   # London, UK (Northern Hemisphere)\n",
        "    (35.6895, 139.6917),  # Tokyo, Japan (Northern Hemisphere)\n",
        "    (-23.5505, -46.6333), # São Paulo, Brazil (Southern Hemisphere)\n",
        "    (-33.8688, 151.2093), # Sydney, Australia (Southern Hemisphere)\n",
        "    (-36.8485, 174.7633)  # Auckland, New Zealand (Southern Hemisphere)\n",
        "]\n",
        "\n",
        "# Filter out and store only those located in the Southern Hemisphere (latitude < 0)\n",
        "southern_hemisphere = [coord for coord in coordinates if coord[0] < 0]\n",
        "\n",
        "# Count the number of coordinates that meet this condition.\n",
        "count_southern = len(southern_hemisphere)\n",
        "\n",
        "# Print the results\n",
        "print(f\"Southern Hemisphere coordinates: {southern_hemisphere}\")\n",
        "print(f\"Number of coordinates in the Southern Hemisphere: {count_southern}\")\n"
      ]
    },
    {
      "cell_type": "markdown",
      "metadata": {
        "id": "SoyKGY86R03h"
      },
      "source": [
        "## Exercise 20: Generating and Analyzing Random Coordinates\n",
        "\n",
        "- Write a program that generates random coordinates (latitude between [-90, 90] degrees and longitude between [-180, 180] degrees).\n",
        "- Use a `while` loop to keep generating coordinates until a pair with both latitude and longitude greater than 50 is generated.\n",
        "- Print each generated coordinate and the final coordinate that meets the condition."
      ]
    },
    {
      "cell_type": "code",
      "execution_count": 24,
      "metadata": {
        "id": "6MTyzmxcR03h",
        "colab": {
          "base_uri": "https://localhost:8080/"
        },
        "outputId": "351be2e2-5a12-49a1-c628-a403bd29d87a"
      },
      "outputs": [
        {
          "output_type": "stream",
          "name": "stdout",
          "text": [
            "Coordinate: (-69.9216, 154.8837)\n",
            "Coordinate: (75.3796, -14.6337)\n",
            "Coordinate: (-88.3353, -68.7301)\n",
            "Coordinate: (46.9077, 0.1174)\n",
            "Coordinate: (84.2495, -31.3867)\n",
            "Coordinate: (-39.9375, 168.1000)\n",
            "Coordinate: (55.1675, 46.5161)\n",
            "Coordinate: (84.5863, 66.0171)\n",
            "Final Coordinate that meets the condition: (84.5863, 66.0171)\n"
          ]
        }
      ],
      "source": [
        "# Write a program that generates random coordinates (latitude between [-90, 90] degrees and longitude between [-180, 180] degrees).\n",
        "\n",
        "import random\n",
        "\n",
        "# Initialize a variable to track the generated coordinates\n",
        "coordinate = (0, 0)\n",
        "\n",
        "# Use a while loop to keep generating coordinates until a pair with 'both' latitude and longitude greater than 50 is generated.\n",
        "while True:\n",
        "    # Generate random latitude and longitude\n",
        "    lat = random.uniform(-90, 90)\n",
        "    lon = random.uniform(-180, 180)\n",
        "\n",
        "    # Print the generated coordinate\n",
        "    print(f\"Coordinate: ({lat:.4f}, {lon:.4f})\")\n",
        "\n",
        "    # Check if (latitude and longitude) > 50\n",
        "    if lat > 50 and lon > 50:\n",
        "        coordinate = (lat, lon)\n",
        "        break\n",
        "\n",
        "# Print each generated coordinate and the final coordinate that meets the condition.\n",
        "print(f\"Final Coordinate that meets the condition: ({coordinate[0]:.4f}, {coordinate[1]:.4f})\")\n"
      ]
    },
    {
      "cell_type": "markdown",
      "metadata": {
        "id": "_FZckA32R03h"
      },
      "source": [
        "## Submission Requirements\n",
        "\n",
        "Complete the exercises above and and upload the notebook to your GitHub repository. Make sure the notebook has a Colab badge at the top so that it can be easily opened in Google Colab. Submit the URL of the notebook to Canvas."
      ]
    }
  ],
  "metadata": {
    "kernelspec": {
      "display_name": "Python 3 (ipykernel)",
      "language": "python",
      "name": "python3"
    },
    "language_info": {
      "codemirror_mode": {
        "name": "ipython",
        "version": 3
      },
      "file_extension": ".py",
      "mimetype": "text/x-python",
      "name": "python",
      "nbconvert_exporter": "python",
      "pygments_lexer": "ipython3",
      "version": "3.12.2"
    },
    "colab": {
      "provenance": [],
      "toc_visible": true
    }
  },
  "nbformat": 4,
  "nbformat_minor": 0
}